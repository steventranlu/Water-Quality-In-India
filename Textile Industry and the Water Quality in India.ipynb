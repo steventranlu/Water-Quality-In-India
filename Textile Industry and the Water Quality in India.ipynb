{
 "cells": [
  {
   "cell_type": "code",
   "execution_count": 1,
   "metadata": {},
   "outputs": [],
   "source": [
    "import pandas as pd\n",
    "import datetime\n",
    "import numpy as np\n",
    "import matplotlib.pyplot as plt\n",
    "import seaborn as sns\n",
    "import statsmodels.api as sm"
   ]
  },
  {
   "cell_type": "markdown",
   "metadata": {},
   "source": [
    "# Data Cleaning and Documentation Procedure"
   ]
  },
  {
   "cell_type": "markdown",
   "metadata": {},
   "source": [
    "### Cleansing of Data set #1 and #2"
   ]
  },
  {
   "cell_type": "code",
   "execution_count": 2,
   "metadata": {},
   "outputs": [],
   "source": [
    "#India Affected Water Quality Areas data: Government data related to the water quality of India\n",
    "df = pd.read_csv(\"/Users/stevenlu/Desktop/IndiaAffectedWaterQualityAreas.csv\",engine='python')\n",
    "df2 = pd.read_csv(\"/Users/stevenlu/Desktop/water_dataX.csv\", engine = 'python')"
   ]
  },
  {
   "cell_type": "code",
   "execution_count": 3,
   "metadata": {},
   "outputs": [
    {
     "data": {
      "text/html": [
       "<div>\n",
       "<style scoped>\n",
       "    .dataframe tbody tr th:only-of-type {\n",
       "        vertical-align: middle;\n",
       "    }\n",
       "\n",
       "    .dataframe tbody tr th {\n",
       "        vertical-align: top;\n",
       "    }\n",
       "\n",
       "    .dataframe thead th {\n",
       "        text-align: right;\n",
       "    }\n",
       "</style>\n",
       "<table border=\"1\" class=\"dataframe\">\n",
       "  <thead>\n",
       "    <tr style=\"text-align: right;\">\n",
       "      <th></th>\n",
       "      <th>State Name</th>\n",
       "      <th>District Name</th>\n",
       "      <th>Block Name</th>\n",
       "      <th>Panchayat Name</th>\n",
       "      <th>Village Name</th>\n",
       "      <th>Habitation Name</th>\n",
       "      <th>Quality Parameter</th>\n",
       "      <th>Year</th>\n",
       "    </tr>\n",
       "  </thead>\n",
       "  <tbody>\n",
       "    <tr>\n",
       "      <th>0</th>\n",
       "      <td>ANDHRA PRADESH</td>\n",
       "      <td>EAST GODAVARI(04)</td>\n",
       "      <td>PRATHIPADU(10)</td>\n",
       "      <td>GOKAVARAM(04)</td>\n",
       "      <td>VANTHADA(014 )</td>\n",
       "      <td>VANTHADA(0404410014010400)</td>\n",
       "      <td>Salinity</td>\n",
       "      <td>1/4/2009</td>\n",
       "    </tr>\n",
       "    <tr>\n",
       "      <th>1</th>\n",
       "      <td>ANDHRA PRADESH</td>\n",
       "      <td>EAST GODAVARI(04)</td>\n",
       "      <td>PRATHIPADU(10)</td>\n",
       "      <td>GOKAVARAM(04)</td>\n",
       "      <td>PANDAVULAPALEM(022 )</td>\n",
       "      <td>PANDAVULAPALEM(0404410022010400)</td>\n",
       "      <td>Fluoride</td>\n",
       "      <td>1/4/2009</td>\n",
       "    </tr>\n",
       "    <tr>\n",
       "      <th>2</th>\n",
       "      <td>ANDHRA PRADESH</td>\n",
       "      <td>EAST GODAVARI(04)</td>\n",
       "      <td>PRATHIPADU(10)</td>\n",
       "      <td>GAJJANAPUDI(06)</td>\n",
       "      <td>G. KOTHURU(023 )</td>\n",
       "      <td>G. KOTHURU(0404410023010600)</td>\n",
       "      <td>Salinity</td>\n",
       "      <td>1/4/2009</td>\n",
       "    </tr>\n",
       "    <tr>\n",
       "      <th>3</th>\n",
       "      <td>ANDHRA PRADESH</td>\n",
       "      <td>EAST GODAVARI(04)</td>\n",
       "      <td>PRATHIPADU(10)</td>\n",
       "      <td>GAJJANAPUDI(06)</td>\n",
       "      <td>GAJJANAPUDI(029 )</td>\n",
       "      <td>GAJJANAPUDI(0404410029010600)</td>\n",
       "      <td>Salinity</td>\n",
       "      <td>1/4/2009</td>\n",
       "    </tr>\n",
       "    <tr>\n",
       "      <th>4</th>\n",
       "      <td>ANDHRA PRADESH</td>\n",
       "      <td>EAST GODAVARI(04)</td>\n",
       "      <td>PRATHIPADU(10)</td>\n",
       "      <td>CHINTALURU(10)</td>\n",
       "      <td>CHINTALURU(028 )</td>\n",
       "      <td>CHINTALURU(0404410028011000)</td>\n",
       "      <td>Salinity</td>\n",
       "      <td>1/4/2009</td>\n",
       "    </tr>\n",
       "  </tbody>\n",
       "</table>\n",
       "</div>"
      ],
      "text/plain": [
       "       State Name      District Name      Block Name   Panchayat Name  \\\n",
       "0  ANDHRA PRADESH  EAST GODAVARI(04)  PRATHIPADU(10)    GOKAVARAM(04)   \n",
       "1  ANDHRA PRADESH  EAST GODAVARI(04)  PRATHIPADU(10)    GOKAVARAM(04)   \n",
       "2  ANDHRA PRADESH  EAST GODAVARI(04)  PRATHIPADU(10)  GAJJANAPUDI(06)   \n",
       "3  ANDHRA PRADESH  EAST GODAVARI(04)  PRATHIPADU(10)  GAJJANAPUDI(06)   \n",
       "4  ANDHRA PRADESH  EAST GODAVARI(04)  PRATHIPADU(10)   CHINTALURU(10)   \n",
       "\n",
       "           Village Name                   Habitation Name Quality Parameter  \\\n",
       "0        VANTHADA(014 )        VANTHADA(0404410014010400)          Salinity   \n",
       "1  PANDAVULAPALEM(022 )  PANDAVULAPALEM(0404410022010400)          Fluoride   \n",
       "2      G. KOTHURU(023 )      G. KOTHURU(0404410023010600)          Salinity   \n",
       "3     GAJJANAPUDI(029 )     GAJJANAPUDI(0404410029010600)          Salinity   \n",
       "4      CHINTALURU(028 )      CHINTALURU(0404410028011000)          Salinity   \n",
       "\n",
       "       Year  \n",
       "0  1/4/2009  \n",
       "1  1/4/2009  \n",
       "2  1/4/2009  \n",
       "3  1/4/2009  \n",
       "4  1/4/2009  "
      ]
     },
     "execution_count": 3,
     "metadata": {},
     "output_type": "execute_result"
    }
   ],
   "source": [
    "#Showing first 5 rows of data\n",
    "df.head()"
   ]
  },
  {
   "cell_type": "code",
   "execution_count": 4,
   "metadata": {},
   "outputs": [
    {
     "data": {
      "text/plain": [
       "State Name           0\n",
       "District Name        0\n",
       "Block Name           0\n",
       "Panchayat Name       0\n",
       "Village Name         0\n",
       "Habitation Name      0\n",
       "Quality Parameter    0\n",
       "Year                 0\n",
       "dtype: int64"
      ]
     },
     "execution_count": 4,
     "metadata": {},
     "output_type": "execute_result"
    }
   ],
   "source": [
    "#Checking for null values\n",
    "df.isnull().sum()"
   ]
  },
  {
   "cell_type": "code",
   "execution_count": 5,
   "metadata": {},
   "outputs": [
    {
     "name": "stdout",
     "output_type": "stream",
     "text": [
      "<class 'pandas.core.frame.DataFrame'>\n",
      "RangeIndex: 550242 entries, 0 to 550241\n",
      "Data columns (total 8 columns):\n",
      "State Name           550242 non-null object\n",
      "District Name        550242 non-null object\n",
      "Block Name           550242 non-null object\n",
      "Panchayat Name       550242 non-null object\n",
      "Village Name         550242 non-null object\n",
      "Habitation Name      550242 non-null object\n",
      "Quality Parameter    550242 non-null object\n",
      "Year                 550242 non-null object\n",
      "dtypes: object(8)\n",
      "memory usage: 33.6+ MB\n"
     ]
    }
   ],
   "source": [
    "#Checking data types of the columns\n",
    "df.info()"
   ]
  },
  {
   "cell_type": "code",
   "execution_count": 6,
   "metadata": {},
   "outputs": [],
   "source": [
    "#Changing year from string into timeseries\n",
    "change_datetime = lambda d: datetime.datetime.strptime(d,'%m/%d/%Y')\n",
    "df['Year'] = df['Year'].apply(change_datetime)"
   ]
  },
  {
   "cell_type": "code",
   "execution_count": 7,
   "metadata": {},
   "outputs": [],
   "source": [
    "#Setting index to Year \n",
    "df.set_index('Year',inplace=True,drop=True)"
   ]
  },
  {
   "cell_type": "code",
   "execution_count": 8,
   "metadata": {},
   "outputs": [
    {
     "data": {
      "text/html": [
       "<div>\n",
       "<style scoped>\n",
       "    .dataframe tbody tr th:only-of-type {\n",
       "        vertical-align: middle;\n",
       "    }\n",
       "\n",
       "    .dataframe tbody tr th {\n",
       "        vertical-align: top;\n",
       "    }\n",
       "\n",
       "    .dataframe thead th {\n",
       "        text-align: right;\n",
       "    }\n",
       "</style>\n",
       "<table border=\"1\" class=\"dataframe\">\n",
       "  <thead>\n",
       "    <tr style=\"text-align: right;\">\n",
       "      <th></th>\n",
       "      <th>State Name</th>\n",
       "      <th>District Name</th>\n",
       "      <th>Block Name</th>\n",
       "      <th>Panchayat Name</th>\n",
       "      <th>Village Name</th>\n",
       "      <th>Habitation Name</th>\n",
       "      <th>Quality Parameter</th>\n",
       "    </tr>\n",
       "    <tr>\n",
       "      <th>Year</th>\n",
       "      <th></th>\n",
       "      <th></th>\n",
       "      <th></th>\n",
       "      <th></th>\n",
       "      <th></th>\n",
       "      <th></th>\n",
       "      <th></th>\n",
       "    </tr>\n",
       "  </thead>\n",
       "  <tbody>\n",
       "    <tr>\n",
       "      <th>2009-01-04</th>\n",
       "      <td>ANDHRA PRADESH</td>\n",
       "      <td>EAST GODAVARI(04)</td>\n",
       "      <td>PRATHIPADU(10)</td>\n",
       "      <td>GOKAVARAM(04)</td>\n",
       "      <td>VANTHADA(014 )</td>\n",
       "      <td>VANTHADA(0404410014010400)</td>\n",
       "      <td>Salinity</td>\n",
       "    </tr>\n",
       "    <tr>\n",
       "      <th>2009-01-04</th>\n",
       "      <td>ANDHRA PRADESH</td>\n",
       "      <td>EAST GODAVARI(04)</td>\n",
       "      <td>PRATHIPADU(10)</td>\n",
       "      <td>GOKAVARAM(04)</td>\n",
       "      <td>PANDAVULAPALEM(022 )</td>\n",
       "      <td>PANDAVULAPALEM(0404410022010400)</td>\n",
       "      <td>Fluoride</td>\n",
       "    </tr>\n",
       "    <tr>\n",
       "      <th>2009-01-04</th>\n",
       "      <td>ANDHRA PRADESH</td>\n",
       "      <td>EAST GODAVARI(04)</td>\n",
       "      <td>PRATHIPADU(10)</td>\n",
       "      <td>GAJJANAPUDI(06)</td>\n",
       "      <td>G. KOTHURU(023 )</td>\n",
       "      <td>G. KOTHURU(0404410023010600)</td>\n",
       "      <td>Salinity</td>\n",
       "    </tr>\n",
       "    <tr>\n",
       "      <th>2009-01-04</th>\n",
       "      <td>ANDHRA PRADESH</td>\n",
       "      <td>EAST GODAVARI(04)</td>\n",
       "      <td>PRATHIPADU(10)</td>\n",
       "      <td>GAJJANAPUDI(06)</td>\n",
       "      <td>GAJJANAPUDI(029 )</td>\n",
       "      <td>GAJJANAPUDI(0404410029010600)</td>\n",
       "      <td>Salinity</td>\n",
       "    </tr>\n",
       "    <tr>\n",
       "      <th>2009-01-04</th>\n",
       "      <td>ANDHRA PRADESH</td>\n",
       "      <td>EAST GODAVARI(04)</td>\n",
       "      <td>PRATHIPADU(10)</td>\n",
       "      <td>CHINTALURU(10)</td>\n",
       "      <td>CHINTALURU(028 )</td>\n",
       "      <td>CHINTALURU(0404410028011000)</td>\n",
       "      <td>Salinity</td>\n",
       "    </tr>\n",
       "  </tbody>\n",
       "</table>\n",
       "</div>"
      ],
      "text/plain": [
       "                State Name      District Name      Block Name  \\\n",
       "Year                                                            \n",
       "2009-01-04  ANDHRA PRADESH  EAST GODAVARI(04)  PRATHIPADU(10)   \n",
       "2009-01-04  ANDHRA PRADESH  EAST GODAVARI(04)  PRATHIPADU(10)   \n",
       "2009-01-04  ANDHRA PRADESH  EAST GODAVARI(04)  PRATHIPADU(10)   \n",
       "2009-01-04  ANDHRA PRADESH  EAST GODAVARI(04)  PRATHIPADU(10)   \n",
       "2009-01-04  ANDHRA PRADESH  EAST GODAVARI(04)  PRATHIPADU(10)   \n",
       "\n",
       "             Panchayat Name          Village Name  \\\n",
       "Year                                                \n",
       "2009-01-04    GOKAVARAM(04)        VANTHADA(014 )   \n",
       "2009-01-04    GOKAVARAM(04)  PANDAVULAPALEM(022 )   \n",
       "2009-01-04  GAJJANAPUDI(06)      G. KOTHURU(023 )   \n",
       "2009-01-04  GAJJANAPUDI(06)     GAJJANAPUDI(029 )   \n",
       "2009-01-04   CHINTALURU(10)      CHINTALURU(028 )   \n",
       "\n",
       "                             Habitation Name Quality Parameter  \n",
       "Year                                                            \n",
       "2009-01-04        VANTHADA(0404410014010400)          Salinity  \n",
       "2009-01-04  PANDAVULAPALEM(0404410022010400)          Fluoride  \n",
       "2009-01-04      G. KOTHURU(0404410023010600)          Salinity  \n",
       "2009-01-04     GAJJANAPUDI(0404410029010600)          Salinity  \n",
       "2009-01-04      CHINTALURU(0404410028011000)          Salinity  "
      ]
     },
     "execution_count": 8,
     "metadata": {},
     "output_type": "execute_result"
    }
   ],
   "source": [
    "#Final Dataframe\n",
    "df.head()"
   ]
  },
  {
   "cell_type": "code",
   "execution_count": 9,
   "metadata": {},
   "outputs": [],
   "source": [
    "#Merging both datasets\n",
    "df3 = df.merge(df2,\n",
    "               left_on = 'State Name',\n",
    "               right_on = 'STATE'\n",
    "    \n",
    ")"
   ]
  },
  {
   "cell_type": "code",
   "execution_count": 10,
   "metadata": {},
   "outputs": [],
   "source": [
    "#Removing Unneccessary Variables\n",
    "df3.drop(['LOCATIONS','STATION CODE','STATE'],axis = 1, inplace = True)"
   ]
  },
  {
   "cell_type": "code",
   "execution_count": 11,
   "metadata": {},
   "outputs": [
    {
     "data": {
      "text/html": [
       "<div>\n",
       "<style scoped>\n",
       "    .dataframe tbody tr th:only-of-type {\n",
       "        vertical-align: middle;\n",
       "    }\n",
       "\n",
       "    .dataframe tbody tr th {\n",
       "        vertical-align: top;\n",
       "    }\n",
       "\n",
       "    .dataframe thead th {\n",
       "        text-align: right;\n",
       "    }\n",
       "</style>\n",
       "<table border=\"1\" class=\"dataframe\">\n",
       "  <thead>\n",
       "    <tr style=\"text-align: right;\">\n",
       "      <th></th>\n",
       "      <th>State Name</th>\n",
       "      <th>District Name</th>\n",
       "      <th>Block Name</th>\n",
       "      <th>Panchayat Name</th>\n",
       "      <th>Village Name</th>\n",
       "      <th>Habitation Name</th>\n",
       "      <th>Quality Parameter</th>\n",
       "      <th>Temp</th>\n",
       "      <th>D.O. (mg/l)</th>\n",
       "      <th>PH</th>\n",
       "      <th>CONDUCTIVITY (�mhos/cm)</th>\n",
       "      <th>B.O.D. (mg/l)</th>\n",
       "      <th>NITRATENAN N+ NITRITENANN (mg/l)</th>\n",
       "      <th>FECAL COLIFORM (MPN/100ml)</th>\n",
       "      <th>TOTAL COLIFORM (MPN/100ml)Mean</th>\n",
       "      <th>year</th>\n",
       "    </tr>\n",
       "  </thead>\n",
       "  <tbody>\n",
       "    <tr>\n",
       "      <th>0</th>\n",
       "      <td>ANDHRA PRADESH</td>\n",
       "      <td>EAST GODAVARI(04)</td>\n",
       "      <td>PRATHIPADU(10)</td>\n",
       "      <td>GOKAVARAM(04)</td>\n",
       "      <td>VANTHADA(014 )</td>\n",
       "      <td>VANTHADA(0404410014010400)</td>\n",
       "      <td>Salinity</td>\n",
       "      <td>25.9</td>\n",
       "      <td>5.5</td>\n",
       "      <td>7.6</td>\n",
       "      <td>569</td>\n",
       "      <td>1.3</td>\n",
       "      <td>0.9</td>\n",
       "      <td>18</td>\n",
       "      <td>141</td>\n",
       "      <td>2014</td>\n",
       "    </tr>\n",
       "    <tr>\n",
       "      <th>1</th>\n",
       "      <td>ANDHRA PRADESH</td>\n",
       "      <td>EAST GODAVARI(04)</td>\n",
       "      <td>PRATHIPADU(10)</td>\n",
       "      <td>GOKAVARAM(04)</td>\n",
       "      <td>VANTHADA(014 )</td>\n",
       "      <td>VANTHADA(0404410014010400)</td>\n",
       "      <td>Salinity</td>\n",
       "      <td>26.5</td>\n",
       "      <td>5.4</td>\n",
       "      <td>7.8</td>\n",
       "      <td>310</td>\n",
       "      <td>0.8</td>\n",
       "      <td>2.4</td>\n",
       "      <td>7</td>\n",
       "      <td>107</td>\n",
       "      <td>2014</td>\n",
       "    </tr>\n",
       "    <tr>\n",
       "      <th>2</th>\n",
       "      <td>ANDHRA PRADESH</td>\n",
       "      <td>EAST GODAVARI(04)</td>\n",
       "      <td>PRATHIPADU(10)</td>\n",
       "      <td>GOKAVARAM(04)</td>\n",
       "      <td>VANTHADA(014 )</td>\n",
       "      <td>VANTHADA(0404410014010400)</td>\n",
       "      <td>Salinity</td>\n",
       "      <td>18.9</td>\n",
       "      <td>7.1</td>\n",
       "      <td>7.8</td>\n",
       "      <td>516</td>\n",
       "      <td>0.7</td>\n",
       "      <td>0.5</td>\n",
       "      <td>2</td>\n",
       "      <td>1238</td>\n",
       "      <td>2014</td>\n",
       "    </tr>\n",
       "    <tr>\n",
       "      <th>3</th>\n",
       "      <td>ANDHRA PRADESH</td>\n",
       "      <td>EAST GODAVARI(04)</td>\n",
       "      <td>PRATHIPADU(10)</td>\n",
       "      <td>GOKAVARAM(04)</td>\n",
       "      <td>VANTHADA(014 )</td>\n",
       "      <td>VANTHADA(0404410014010400)</td>\n",
       "      <td>Salinity</td>\n",
       "      <td>20.5</td>\n",
       "      <td>6.9</td>\n",
       "      <td>8</td>\n",
       "      <td>505</td>\n",
       "      <td>0.9</td>\n",
       "      <td>0.7</td>\n",
       "      <td>2</td>\n",
       "      <td>1563</td>\n",
       "      <td>2014</td>\n",
       "    </tr>\n",
       "    <tr>\n",
       "      <th>4</th>\n",
       "      <td>ANDHRA PRADESH</td>\n",
       "      <td>EAST GODAVARI(04)</td>\n",
       "      <td>PRATHIPADU(10)</td>\n",
       "      <td>GOKAVARAM(04)</td>\n",
       "      <td>VANTHADA(014 )</td>\n",
       "      <td>VANTHADA(0404410014010400)</td>\n",
       "      <td>Salinity</td>\n",
       "      <td>27</td>\n",
       "      <td>6</td>\n",
       "      <td>7.3</td>\n",
       "      <td>432</td>\n",
       "      <td>1.2</td>\n",
       "      <td>3</td>\n",
       "      <td>3</td>\n",
       "      <td>78</td>\n",
       "      <td>2013</td>\n",
       "    </tr>\n",
       "  </tbody>\n",
       "</table>\n",
       "</div>"
      ],
      "text/plain": [
       "       State Name      District Name      Block Name Panchayat Name  \\\n",
       "0  ANDHRA PRADESH  EAST GODAVARI(04)  PRATHIPADU(10)  GOKAVARAM(04)   \n",
       "1  ANDHRA PRADESH  EAST GODAVARI(04)  PRATHIPADU(10)  GOKAVARAM(04)   \n",
       "2  ANDHRA PRADESH  EAST GODAVARI(04)  PRATHIPADU(10)  GOKAVARAM(04)   \n",
       "3  ANDHRA PRADESH  EAST GODAVARI(04)  PRATHIPADU(10)  GOKAVARAM(04)   \n",
       "4  ANDHRA PRADESH  EAST GODAVARI(04)  PRATHIPADU(10)  GOKAVARAM(04)   \n",
       "\n",
       "     Village Name             Habitation Name Quality Parameter  Temp  \\\n",
       "0  VANTHADA(014 )  VANTHADA(0404410014010400)          Salinity  25.9   \n",
       "1  VANTHADA(014 )  VANTHADA(0404410014010400)          Salinity  26.5   \n",
       "2  VANTHADA(014 )  VANTHADA(0404410014010400)          Salinity  18.9   \n",
       "3  VANTHADA(014 )  VANTHADA(0404410014010400)          Salinity  20.5   \n",
       "4  VANTHADA(014 )  VANTHADA(0404410014010400)          Salinity    27   \n",
       "\n",
       "  D.O. (mg/l)   PH CONDUCTIVITY (�mhos/cm) B.O.D. (mg/l)  \\\n",
       "0         5.5  7.6                     569           1.3   \n",
       "1         5.4  7.8                     310           0.8   \n",
       "2         7.1  7.8                     516           0.7   \n",
       "3         6.9    8                     505           0.9   \n",
       "4           6  7.3                     432           1.2   \n",
       "\n",
       "  NITRATENAN N+ NITRITENANN (mg/l) FECAL COLIFORM (MPN/100ml)  \\\n",
       "0                              0.9                         18   \n",
       "1                              2.4                          7   \n",
       "2                              0.5                          2   \n",
       "3                              0.7                          2   \n",
       "4                                3                          3   \n",
       "\n",
       "  TOTAL COLIFORM (MPN/100ml)Mean  year  \n",
       "0                            141  2014  \n",
       "1                            107  2014  \n",
       "2                           1238  2014  \n",
       "3                           1563  2014  \n",
       "4                             78  2013  "
      ]
     },
     "execution_count": 11,
     "metadata": {},
     "output_type": "execute_result"
    }
   ],
   "source": [
    "#Current merged dataframe\n",
    "df3.head()"
   ]
  },
  {
   "cell_type": "code",
   "execution_count": 12,
   "metadata": {},
   "outputs": [],
   "source": [
    "#Changing year to a string\n",
    "df3['year'] = df3['year'].astype(str)\n",
    "#Creating a function to convert to timeseries\n",
    "year_to_dt = lambda d: datetime.datetime.strptime(d,'%Y')\n",
    "#Applying time series function\n",
    "df3['year'] = df3['year'].apply(year_to_dt)\n",
    "#Setting the index as the new timeseries \n",
    "#df3.set_index('year',inplace=True,drop=True)"
   ]
  },
  {
   "cell_type": "code",
   "execution_count": 42,
   "metadata": {},
   "outputs": [],
   "source": [
    "#Changing the column's name\n",
    "df3 = df3.rename(lambda x: 'QualityParameter' if x == 'Quality Parameter' else x, axis=1)"
   ]
  },
  {
   "cell_type": "markdown",
   "metadata": {},
   "source": [
    "### Cleansing of Dataset #3"
   ]
  },
  {
   "cell_type": "code",
   "execution_count": 14,
   "metadata": {},
   "outputs": [
    {
     "data": {
      "text/html": [
       "<div>\n",
       "<style scoped>\n",
       "    .dataframe tbody tr th:only-of-type {\n",
       "        vertical-align: middle;\n",
       "    }\n",
       "\n",
       "    .dataframe tbody tr th {\n",
       "        vertical-align: top;\n",
       "    }\n",
       "\n",
       "    .dataframe thead th {\n",
       "        text-align: right;\n",
       "    }\n",
       "</style>\n",
       "<table border=\"1\" class=\"dataframe\">\n",
       "  <thead>\n",
       "    <tr style=\"text-align: right;\">\n",
       "      <th></th>\n",
       "      <th>GEMS Station Number;Sample Date;Sample Time;Depth;Parameter Code;Analysis Method Code;Value Flags;Value;Unit;Data Quality</th>\n",
       "    </tr>\n",
       "  </thead>\n",
       "  <tbody>\n",
       "    <tr>\n",
       "      <th>0</th>\n",
       "      <td>IND00001;1991-04-04;12:00;0.6;H-T;T-COL-EDTA-E...</td>\n",
       "    </tr>\n",
       "    <tr>\n",
       "      <th>1</th>\n",
       "      <td>IND00001;1991-04-04;12:00;0.6;TP;COL-SnCl-SA-P...</td>\n",
       "    </tr>\n",
       "    <tr>\n",
       "      <th>2</th>\n",
       "      <td>IND00001;1991-05-07;12:00;0.6;TKN;TKN-T-COL;;3...</td>\n",
       "    </tr>\n",
       "    <tr>\n",
       "      <th>3</th>\n",
       "      <td>IND00001;1991-05-07;12:00;0.6;NH3N;COL-NES;;1....</td>\n",
       "    </tr>\n",
       "    <tr>\n",
       "      <th>4</th>\n",
       "      <td>IND00001;1991-05-07;12:00;0.6;O2-Dis;T-COL-I-A...</td>\n",
       "    </tr>\n",
       "  </tbody>\n",
       "</table>\n",
       "</div>"
      ],
      "text/plain": [
       "  GEMS Station Number;Sample Date;Sample Time;Depth;Parameter Code;Analysis Method Code;Value Flags;Value;Unit;Data Quality\n",
       "0  IND00001;1991-04-04;12:00;0.6;H-T;T-COL-EDTA-E...                                                                       \n",
       "1  IND00001;1991-04-04;12:00;0.6;TP;COL-SnCl-SA-P...                                                                       \n",
       "2  IND00001;1991-05-07;12:00;0.6;TKN;TKN-T-COL;;3...                                                                       \n",
       "3  IND00001;1991-05-07;12:00;0.6;NH3N;COL-NES;;1....                                                                       \n",
       "4  IND00001;1991-05-07;12:00;0.6;O2-Dis;T-COL-I-A...                                                                       "
      ]
     },
     "execution_count": 14,
     "metadata": {},
     "output_type": "execute_result"
    }
   ],
   "source": [
    "df4 = pd.read_csv(\"/Users/stevenlu/Desktop/samples.csv\")\n",
    "df4.head()"
   ]
  },
  {
   "cell_type": "code",
   "execution_count": 15,
   "metadata": {},
   "outputs": [],
   "source": [
    "df4 = df4['GEMS Station Number;Sample Date;Sample Time;Depth;Parameter Code;Analysis Method Code;Value Flags;Value;Unit;Data Quality'].str.split(';', expand = True)\n",
    "string = 'GEMS Station Number;Sample Date;Sample Time;Depth;Parameter Code;Analysis Method Code;Value Flags;Value;Unit;Data Quality'      \n",
    "string1 = string.split(\";\")"
   ]
  },
  {
   "cell_type": "code",
   "execution_count": 16,
   "metadata": {},
   "outputs": [
    {
     "data": {
      "text/plain": [
       "True"
      ]
     },
     "execution_count": 16,
     "metadata": {},
     "output_type": "execute_result"
    }
   ],
   "source": [
    "#Checking if Value Flag is valid\n",
    "df4.columns = [string1]\n",
    "len(df4['Value Flags'].count()) > 0"
   ]
  },
  {
   "cell_type": "code",
   "execution_count": 17,
   "metadata": {},
   "outputs": [
    {
     "data": {
      "text/html": [
       "<div>\n",
       "<style scoped>\n",
       "    .dataframe tbody tr th:only-of-type {\n",
       "        vertical-align: middle;\n",
       "    }\n",
       "\n",
       "    .dataframe tbody tr th {\n",
       "        vertical-align: top;\n",
       "    }\n",
       "\n",
       "    .dataframe thead tr th {\n",
       "        text-align: left;\n",
       "    }\n",
       "</style>\n",
       "<table border=\"1\" class=\"dataframe\">\n",
       "  <thead>\n",
       "    <tr>\n",
       "      <th></th>\n",
       "      <th>GEMS Station Number</th>\n",
       "      <th>Sample Date</th>\n",
       "      <th>Sample Time</th>\n",
       "      <th>Depth</th>\n",
       "      <th>Parameter Code</th>\n",
       "      <th>Analysis Method Code</th>\n",
       "      <th>Value Flags</th>\n",
       "      <th>Value</th>\n",
       "      <th>Unit</th>\n",
       "      <th>Data Quality</th>\n",
       "    </tr>\n",
       "  </thead>\n",
       "  <tbody>\n",
       "    <tr>\n",
       "      <th>0</th>\n",
       "      <td>IND00001</td>\n",
       "      <td>1991-04-04</td>\n",
       "      <td>12:00</td>\n",
       "      <td>0.6</td>\n",
       "      <td>H-T</td>\n",
       "      <td>T-COL-EDTA-EBT</td>\n",
       "      <td></td>\n",
       "      <td>116.0</td>\n",
       "      <td>mg/l</td>\n",
       "      <td>Fair</td>\n",
       "    </tr>\n",
       "    <tr>\n",
       "      <th>1</th>\n",
       "      <td>IND00001</td>\n",
       "      <td>1991-04-04</td>\n",
       "      <td>12:00</td>\n",
       "      <td>0.6</td>\n",
       "      <td>TP</td>\n",
       "      <td>COL-SnCl-SA-PPS</td>\n",
       "      <td></td>\n",
       "      <td>0.0</td>\n",
       "      <td>mg/l</td>\n",
       "      <td>Poor</td>\n",
       "    </tr>\n",
       "    <tr>\n",
       "      <th>2</th>\n",
       "      <td>IND00001</td>\n",
       "      <td>1991-05-07</td>\n",
       "      <td>12:00</td>\n",
       "      <td>0.6</td>\n",
       "      <td>TKN</td>\n",
       "      <td>TKN-T-COL</td>\n",
       "      <td></td>\n",
       "      <td>3.36</td>\n",
       "      <td>mg/l</td>\n",
       "      <td>Fair</td>\n",
       "    </tr>\n",
       "    <tr>\n",
       "      <th>3</th>\n",
       "      <td>IND00001</td>\n",
       "      <td>1991-05-07</td>\n",
       "      <td>12:00</td>\n",
       "      <td>0.6</td>\n",
       "      <td>NH3N</td>\n",
       "      <td>COL-NES</td>\n",
       "      <td></td>\n",
       "      <td>1.12</td>\n",
       "      <td>mg/l</td>\n",
       "      <td>Fair</td>\n",
       "    </tr>\n",
       "    <tr>\n",
       "      <th>4</th>\n",
       "      <td>IND00001</td>\n",
       "      <td>1991-05-07</td>\n",
       "      <td>12:00</td>\n",
       "      <td>0.6</td>\n",
       "      <td>O2-Dis</td>\n",
       "      <td>T-COL-I-AZD</td>\n",
       "      <td></td>\n",
       "      <td>8.2</td>\n",
       "      <td>mg/l</td>\n",
       "      <td>Fair</td>\n",
       "    </tr>\n",
       "  </tbody>\n",
       "</table>\n",
       "</div>"
      ],
      "text/plain": [
       "  GEMS Station Number Sample Date Sample Time Depth Parameter Code  \\\n",
       "0            IND00001  1991-04-04       12:00   0.6            H-T   \n",
       "1            IND00001  1991-04-04       12:00   0.6             TP   \n",
       "2            IND00001  1991-05-07       12:00   0.6            TKN   \n",
       "3            IND00001  1991-05-07       12:00   0.6           NH3N   \n",
       "4            IND00001  1991-05-07       12:00   0.6         O2-Dis   \n",
       "\n",
       "  Analysis Method Code Value Flags  Value  Unit Data Quality  \n",
       "0       T-COL-EDTA-EBT              116.0  mg/l         Fair  \n",
       "1      COL-SnCl-SA-PPS                0.0  mg/l         Poor  \n",
       "2            TKN-T-COL               3.36  mg/l         Fair  \n",
       "3              COL-NES               1.12  mg/l         Fair  \n",
       "4          T-COL-I-AZD                8.2  mg/l         Fair  "
      ]
     },
     "execution_count": 17,
     "metadata": {},
     "output_type": "execute_result"
    }
   ],
   "source": [
    "#Final Dataframe\n",
    "df4.head()"
   ]
  },
  {
   "cell_type": "markdown",
   "metadata": {},
   "source": [
    "### Cleansing of Dataset #4"
   ]
  },
  {
   "cell_type": "code",
   "execution_count": 18,
   "metadata": {},
   "outputs": [
    {
     "data": {
      "text/html": [
       "<div>\n",
       "<style scoped>\n",
       "    .dataframe tbody tr th:only-of-type {\n",
       "        vertical-align: middle;\n",
       "    }\n",
       "\n",
       "    .dataframe tbody tr th {\n",
       "        vertical-align: top;\n",
       "    }\n",
       "\n",
       "    .dataframe thead th {\n",
       "        text-align: right;\n",
       "    }\n",
       "</style>\n",
       "<table border=\"1\" class=\"dataframe\">\n",
       "  <thead>\n",
       "    <tr style=\"text-align: right;\">\n",
       "      <th></th>\n",
       "      <th>Year</th>\n",
       "      <th>Export(US$Thousand)</th>\n",
       "    </tr>\n",
       "  </thead>\n",
       "  <tbody>\n",
       "    <tr>\n",
       "      <th>0</th>\n",
       "      <td>1988</td>\n",
       "      <td>3,148,861.47</td>\n",
       "    </tr>\n",
       "    <tr>\n",
       "      <th>1</th>\n",
       "      <td>1989</td>\n",
       "      <td>4,080,891.82</td>\n",
       "    </tr>\n",
       "    <tr>\n",
       "      <th>2</th>\n",
       "      <td>1990</td>\n",
       "      <td>4,899,971.21</td>\n",
       "    </tr>\n",
       "    <tr>\n",
       "      <th>3</th>\n",
       "      <td>1991</td>\n",
       "      <td>4,882,667.33</td>\n",
       "    </tr>\n",
       "    <tr>\n",
       "      <th>4</th>\n",
       "      <td>1992</td>\n",
       "      <td>5,707,423.89</td>\n",
       "    </tr>\n",
       "  </tbody>\n",
       "</table>\n",
       "</div>"
      ],
      "text/plain": [
       "   Year Export(US$Thousand)\n",
       "0  1988        3,148,861.47\n",
       "1  1989        4,080,891.82\n",
       "2  1990        4,899,971.21\n",
       "3  1991       4,882,667.33 \n",
       "4  1992       5,707,423.89 "
      ]
     },
     "execution_count": 18,
     "metadata": {},
     "output_type": "execute_result"
    }
   ],
   "source": [
    "#Importing Export Data\n",
    "exportdata = pd.read_csv(\"/Users/stevenlu/Desktop/Indian_textile_exports.csv\")\n",
    "exportdata.head()"
   ]
  },
  {
   "cell_type": "code",
   "execution_count": 19,
   "metadata": {},
   "outputs": [],
   "source": [
    "#Removing Comma in Exports\n",
    "remove_comma = lambda x: x.replace(',','')\n",
    "exportdata['Export(US$Thousand)'] = exportdata['Export(US$Thousand)'].apply(remove_comma)\n",
    "exportdata['Export(US$Thousand)'] = exportdata['Export(US$Thousand)'].astype(float)"
   ]
  },
  {
   "cell_type": "code",
   "execution_count": 20,
   "metadata": {},
   "outputs": [
    {
     "name": "stdout",
     "output_type": "stream",
     "text": [
      "<class 'pandas.core.frame.DataFrame'>\n",
      "RangeIndex: 31 entries, 0 to 30\n",
      "Data columns (total 2 columns):\n",
      "Year                   31 non-null int64\n",
      "Export(US$Thousand)    31 non-null float64\n",
      "dtypes: float64(1), int64(1)\n",
      "memory usage: 576.0 bytes\n"
     ]
    }
   ],
   "source": [
    "#Info\n",
    "exportdata.info()"
   ]
  },
  {
   "cell_type": "code",
   "execution_count": 21,
   "metadata": {},
   "outputs": [
    {
     "name": "stdout",
     "output_type": "stream",
     "text": [
      "<class 'pandas.core.frame.DataFrame'>\n",
      "RangeIndex: 31 entries, 0 to 30\n",
      "Data columns (total 2 columns):\n",
      "Year                   31 non-null datetime64[ns]\n",
      "Export(US$Thousand)    31 non-null float64\n",
      "dtypes: datetime64[ns](1), float64(1)\n",
      "memory usage: 576.0 bytes\n"
     ]
    }
   ],
   "source": [
    "#Changing Year to date type\n",
    "year_to_dt = lambda d: datetime.datetime.strptime(d,'%Y')\n",
    "exportdata['Year'] = exportdata['Year'].astype(str)\n",
    "exportdata['Year'] = exportdata['Year'].apply(year_to_dt)\n",
    "exportdata.info()"
   ]
  },
  {
   "cell_type": "code",
   "execution_count": 22,
   "metadata": {},
   "outputs": [],
   "source": [
    "#Setting index as year\n",
    "exportdata.set_index('Year',inplace=True)"
   ]
  },
  {
   "cell_type": "code",
   "execution_count": 23,
   "metadata": {},
   "outputs": [
    {
     "data": {
      "text/html": [
       "<div>\n",
       "<style scoped>\n",
       "    .dataframe tbody tr th:only-of-type {\n",
       "        vertical-align: middle;\n",
       "    }\n",
       "\n",
       "    .dataframe tbody tr th {\n",
       "        vertical-align: top;\n",
       "    }\n",
       "\n",
       "    .dataframe thead th {\n",
       "        text-align: right;\n",
       "    }\n",
       "</style>\n",
       "<table border=\"1\" class=\"dataframe\">\n",
       "  <thead>\n",
       "    <tr style=\"text-align: right;\">\n",
       "      <th></th>\n",
       "      <th>Export(US$Thousand)</th>\n",
       "    </tr>\n",
       "    <tr>\n",
       "      <th>Year</th>\n",
       "      <th></th>\n",
       "    </tr>\n",
       "  </thead>\n",
       "  <tbody>\n",
       "    <tr>\n",
       "      <th>1988-01-01</th>\n",
       "      <td>3148861.47</td>\n",
       "    </tr>\n",
       "    <tr>\n",
       "      <th>1989-01-01</th>\n",
       "      <td>4080891.82</td>\n",
       "    </tr>\n",
       "    <tr>\n",
       "      <th>1990-01-01</th>\n",
       "      <td>4899971.21</td>\n",
       "    </tr>\n",
       "    <tr>\n",
       "      <th>1991-01-01</th>\n",
       "      <td>4882667.33</td>\n",
       "    </tr>\n",
       "    <tr>\n",
       "      <th>1992-01-01</th>\n",
       "      <td>5707423.89</td>\n",
       "    </tr>\n",
       "  </tbody>\n",
       "</table>\n",
       "</div>"
      ],
      "text/plain": [
       "            Export(US$Thousand)\n",
       "Year                           \n",
       "1988-01-01           3148861.47\n",
       "1989-01-01           4080891.82\n",
       "1990-01-01           4899971.21\n",
       "1991-01-01           4882667.33\n",
       "1992-01-01           5707423.89"
      ]
     },
     "execution_count": 23,
     "metadata": {},
     "output_type": "execute_result"
    }
   ],
   "source": [
    "#Final Dataframe for Export\n",
    "exportdata.head()"
   ]
  },
  {
   "cell_type": "markdown",
   "metadata": {},
   "source": [
    "# DATA ANALYSIS"
   ]
  },
  {
   "cell_type": "markdown",
   "metadata": {},
   "source": [
    "### Sub Question 1: Most common chemicals in each state."
   ]
  },
  {
   "cell_type": "code",
   "execution_count": 24,
   "metadata": {},
   "outputs": [],
   "source": [
    "#Grouping\n",
    "Group1 = df3.groupby(['State Name','QualityParameter']).size().reset_index(name='count')"
   ]
  },
  {
   "cell_type": "code",
   "execution_count": 25,
   "metadata": {},
   "outputs": [
    {
     "data": {
      "text/html": [
       "<div>\n",
       "<style scoped>\n",
       "    .dataframe tbody tr th:only-of-type {\n",
       "        vertical-align: middle;\n",
       "    }\n",
       "\n",
       "    .dataframe tbody tr th {\n",
       "        vertical-align: top;\n",
       "    }\n",
       "\n",
       "    .dataframe thead th {\n",
       "        text-align: right;\n",
       "    }\n",
       "</style>\n",
       "<table border=\"1\" class=\"dataframe\">\n",
       "  <thead>\n",
       "    <tr style=\"text-align: right;\">\n",
       "      <th></th>\n",
       "      <th>State Name</th>\n",
       "      <th>QualityParameter</th>\n",
       "      <th>count</th>\n",
       "    </tr>\n",
       "  </thead>\n",
       "  <tbody>\n",
       "    <tr>\n",
       "      <th>0</th>\n",
       "      <td>ANDHRA PRADESH</td>\n",
       "      <td>Fluoride</td>\n",
       "      <td>30702</td>\n",
       "    </tr>\n",
       "    <tr>\n",
       "      <th>1</th>\n",
       "      <td>ANDHRA PRADESH</td>\n",
       "      <td>Salinity</td>\n",
       "      <td>9730</td>\n",
       "    </tr>\n",
       "    <tr>\n",
       "      <th>2</th>\n",
       "      <td>GUJARAT</td>\n",
       "      <td>Fluoride</td>\n",
       "      <td>29748</td>\n",
       "    </tr>\n",
       "    <tr>\n",
       "      <th>3</th>\n",
       "      <td>GUJARAT</td>\n",
       "      <td>Iron</td>\n",
       "      <td>37</td>\n",
       "    </tr>\n",
       "    <tr>\n",
       "      <th>4</th>\n",
       "      <td>GUJARAT</td>\n",
       "      <td>Nitrate</td>\n",
       "      <td>26418</td>\n",
       "    </tr>\n",
       "  </tbody>\n",
       "</table>\n",
       "</div>"
      ],
      "text/plain": [
       "       State Name QualityParameter  count\n",
       "0  ANDHRA PRADESH         Fluoride  30702\n",
       "1  ANDHRA PRADESH         Salinity   9730\n",
       "2         GUJARAT         Fluoride  29748\n",
       "3         GUJARAT             Iron     37\n",
       "4         GUJARAT          Nitrate  26418"
      ]
     },
     "execution_count": 25,
     "metadata": {},
     "output_type": "execute_result"
    }
   ],
   "source": [
    "Group1.head()"
   ]
  },
  {
   "cell_type": "code",
   "execution_count": 26,
   "metadata": {},
   "outputs": [
    {
     "data": {
      "text/html": [
       "<div>\n",
       "<style scoped>\n",
       "    .dataframe tbody tr th:only-of-type {\n",
       "        vertical-align: middle;\n",
       "    }\n",
       "\n",
       "    .dataframe tbody tr th {\n",
       "        vertical-align: top;\n",
       "    }\n",
       "\n",
       "    .dataframe thead th {\n",
       "        text-align: right;\n",
       "    }\n",
       "</style>\n",
       "<table border=\"1\" class=\"dataframe\">\n",
       "  <thead>\n",
       "    <tr style=\"text-align: right;\">\n",
       "      <th>QualityParameter</th>\n",
       "      <th>Arsenic</th>\n",
       "      <th>Fluoride</th>\n",
       "      <th>Iron</th>\n",
       "      <th>Nitrate</th>\n",
       "      <th>Salinity</th>\n",
       "    </tr>\n",
       "    <tr>\n",
       "      <th>State Name</th>\n",
       "      <th></th>\n",
       "      <th></th>\n",
       "      <th></th>\n",
       "      <th></th>\n",
       "      <th></th>\n",
       "    </tr>\n",
       "  </thead>\n",
       "  <tbody>\n",
       "    <tr>\n",
       "      <th>ANDHRA PRADESH</th>\n",
       "      <td>NA</td>\n",
       "      <td>30702</td>\n",
       "      <td>NA</td>\n",
       "      <td>NA</td>\n",
       "      <td>9730</td>\n",
       "    </tr>\n",
       "    <tr>\n",
       "      <th>GUJARAT</th>\n",
       "      <td>NA</td>\n",
       "      <td>29748</td>\n",
       "      <td>37</td>\n",
       "      <td>26418</td>\n",
       "      <td>21201</td>\n",
       "    </tr>\n",
       "    <tr>\n",
       "      <th>HARYANA</th>\n",
       "      <td>NA</td>\n",
       "      <td>4392</td>\n",
       "      <td>NA</td>\n",
       "      <td>NA</td>\n",
       "      <td>324</td>\n",
       "    </tr>\n",
       "    <tr>\n",
       "      <th>HIMACHAL PRADESH</th>\n",
       "      <td>128</td>\n",
       "      <td>NA</td>\n",
       "      <td>128</td>\n",
       "      <td>NA</td>\n",
       "      <td>1152</td>\n",
       "    </tr>\n",
       "    <tr>\n",
       "      <th>KARNATAKA</th>\n",
       "      <td>1856</td>\n",
       "      <td>210496</td>\n",
       "      <td>158336</td>\n",
       "      <td>61728</td>\n",
       "      <td>60768</td>\n",
       "    </tr>\n",
       "    <tr>\n",
       "      <th>KERALA</th>\n",
       "      <td>NA</td>\n",
       "      <td>136400</td>\n",
       "      <td>869275</td>\n",
       "      <td>65175</td>\n",
       "      <td>249150</td>\n",
       "    </tr>\n",
       "    <tr>\n",
       "      <th>MADHYA PRADESH</th>\n",
       "      <td>NA</td>\n",
       "      <td>25524</td>\n",
       "      <td>870</td>\n",
       "      <td>26</td>\n",
       "      <td>2478</td>\n",
       "    </tr>\n",
       "    <tr>\n",
       "      <th>MAHARASHTRA</th>\n",
       "      <td>142</td>\n",
       "      <td>594128</td>\n",
       "      <td>390642</td>\n",
       "      <td>526394</td>\n",
       "      <td>260854</td>\n",
       "    </tr>\n",
       "    <tr>\n",
       "      <th>MANIPUR</th>\n",
       "      <td>NA</td>\n",
       "      <td>NA</td>\n",
       "      <td>1064</td>\n",
       "      <td>NA</td>\n",
       "      <td>NA</td>\n",
       "    </tr>\n",
       "    <tr>\n",
       "      <th>MEGHALAYA</th>\n",
       "      <td>NA</td>\n",
       "      <td>250</td>\n",
       "      <td>53125</td>\n",
       "      <td>NA</td>\n",
       "      <td>NA</td>\n",
       "    </tr>\n",
       "    <tr>\n",
       "      <th>ORISSA</th>\n",
       "      <td>60</td>\n",
       "      <td>66360</td>\n",
       "      <td>1.79715e+06</td>\n",
       "      <td>3990</td>\n",
       "      <td>191040</td>\n",
       "    </tr>\n",
       "    <tr>\n",
       "      <th>PUNJAB</th>\n",
       "      <td>NA</td>\n",
       "      <td>4896</td>\n",
       "      <td>2880</td>\n",
       "      <td>NA</td>\n",
       "      <td>42912</td>\n",
       "    </tr>\n",
       "    <tr>\n",
       "      <th>RAJASTHAN</th>\n",
       "      <td>1740</td>\n",
       "      <td>808340</td>\n",
       "      <td>5260</td>\n",
       "      <td>70260</td>\n",
       "      <td>1.74274e+06</td>\n",
       "    </tr>\n",
       "    <tr>\n",
       "      <th>TAMIL NADU</th>\n",
       "      <td>NA</td>\n",
       "      <td>154</td>\n",
       "      <td>4238</td>\n",
       "      <td>232</td>\n",
       "      <td>1704</td>\n",
       "    </tr>\n",
       "    <tr>\n",
       "      <th>TRIPURA</th>\n",
       "      <td>NA</td>\n",
       "      <td>NA</td>\n",
       "      <td>314820</td>\n",
       "      <td>NA</td>\n",
       "      <td>NA</td>\n",
       "    </tr>\n",
       "  </tbody>\n",
       "</table>\n",
       "</div>"
      ],
      "text/plain": [
       "QualityParameter Arsenic Fluoride         Iron Nitrate     Salinity\n",
       "State Name                                                         \n",
       "ANDHRA PRADESH        NA    30702           NA      NA         9730\n",
       "GUJARAT               NA    29748           37   26418        21201\n",
       "HARYANA               NA     4392           NA      NA          324\n",
       "HIMACHAL PRADESH     128       NA          128      NA         1152\n",
       "KARNATAKA           1856   210496       158336   61728        60768\n",
       "KERALA                NA   136400       869275   65175       249150\n",
       "MADHYA PRADESH        NA    25524          870      26         2478\n",
       "MAHARASHTRA          142   594128       390642  526394       260854\n",
       "MANIPUR               NA       NA         1064      NA           NA\n",
       "MEGHALAYA             NA      250        53125      NA           NA\n",
       "ORISSA                60    66360  1.79715e+06    3990       191040\n",
       "PUNJAB                NA     4896         2880      NA        42912\n",
       "RAJASTHAN           1740   808340         5260   70260  1.74274e+06\n",
       "TAMIL NADU            NA      154         4238     232         1704\n",
       "TRIPURA               NA       NA       314820      NA           NA"
      ]
     },
     "execution_count": 26,
     "metadata": {},
     "output_type": "execute_result"
    }
   ],
   "source": [
    "Group2 = Group1.pivot_table(\n",
    "    index = ['State Name'],\n",
    "    columns = 'QualityParameter',\n",
    "    values = 'count'\n",
    ")\n",
    "Group2.fillna('NA')"
   ]
  },
  {
   "cell_type": "code",
   "execution_count": 27,
   "metadata": {},
   "outputs": [],
   "source": [
    "States = Group1['State Name']\n",
    "Quality = Group1 ['QualityParameter'] \n",
    "Count = Group1[['count']]"
   ]
  },
  {
   "cell_type": "code",
   "execution_count": 28,
   "metadata": {
    "scrolled": false
   },
   "outputs": [
    {
     "data": {
      "text/plain": [
       "[Text(0, 0.5, 'Count of Chemical Present')]"
      ]
     },
     "execution_count": 28,
     "metadata": {},
     "output_type": "execute_result"
    },
    {
     "data": {
      "image/png": "[encoded data removed]",
      "text/plain": [
       "<Figure size 576x288 with 1 Axes>"
      ]
     },
     "metadata": {
      "needs_background": "light"
     },
     "output_type": "display_data"
    }
   ],
   "source": [
    "#Count of Chemical Present in each state\n",
    "fig = Group2.plot.bar(figsize = (8,4), grid = True)\n",
    "fig.set(ylabel = \"Count of Chemical Present\")"
   ]
  },
  {
   "cell_type": "markdown",
   "metadata": {},
   "source": [
    "### Sub Question 3: How does the textile industry affect the water quality?"
   ]
  },
  {
   "cell_type": "code",
   "execution_count": 51,
   "metadata": {},
   "outputs": [
    {
     "data": {
      "text/html": [
       "<table class=\"simpletable\">\n",
       "<caption>OLS Regression Results</caption>\n",
       "<tr>\n",
       "  <th>Dep. Variable:</th>            <td>y</td>        <th>  R-squared (uncentered):</th>      <td>   0.968</td>\n",
       "</tr>\n",
       "<tr>\n",
       "  <th>Model:</th>                   <td>OLS</td>       <th>  Adj. R-squared (uncentered):</th> <td>   0.967</td>\n",
       "</tr>\n",
       "<tr>\n",
       "  <th>Method:</th>             <td>Least Squares</td>  <th>  F-statistic:       </th>          <td>   910.6</td>\n",
       "</tr>\n",
       "<tr>\n",
       "  <th>Date:</th>             <td>Mon, 27 Jul 2020</td> <th>  Prob (F-statistic):</th>          <td>5.27e-24</td>\n",
       "</tr>\n",
       "<tr>\n",
       "  <th>Time:</th>                 <td>20:49:42</td>     <th>  Log-Likelihood:    </th>          <td> -514.51</td>\n",
       "</tr>\n",
       "<tr>\n",
       "  <th>No. Observations:</th>      <td>    31</td>      <th>  AIC:               </th>          <td>   1031.</td>\n",
       "</tr>\n",
       "<tr>\n",
       "  <th>Df Residuals:</th>          <td>    30</td>      <th>  BIC:               </th>          <td>   1032.</td>\n",
       "</tr>\n",
       "<tr>\n",
       "  <th>Df Model:</th>              <td>     1</td>      <th>                     </th>              <td> </td>   \n",
       "</tr>\n",
       "<tr>\n",
       "  <th>Covariance Type:</th>      <td>nonrobust</td>    <th>                     </th>              <td> </td>   \n",
       "</tr>\n",
       "</table>\n",
       "<table class=\"simpletable\">\n",
       "<tr>\n",
       "   <td></td>     <th>coef</th>     <th>std err</th>      <th>t</th>      <th>P>|t|</th>  <th>[0.025</th>    <th>0.975]</th>  \n",
       "</tr>\n",
       "<tr>\n",
       "  <th>x1</th> <td> 1.174e+06</td> <td> 3.89e+04</td> <td>   30.176</td> <td> 0.000</td> <td> 1.09e+06</td> <td> 1.25e+06</td>\n",
       "</tr>\n",
       "</table>\n",
       "<table class=\"simpletable\">\n",
       "<tr>\n",
       "  <th>Omnibus:</th>       <td> 3.114</td> <th>  Durbin-Watson:     </th> <td>   0.272</td>\n",
       "</tr>\n",
       "<tr>\n",
       "  <th>Prob(Omnibus):</th> <td> 0.211</td> <th>  Jarque-Bera (JB):  </th> <td>   2.224</td>\n",
       "</tr>\n",
       "<tr>\n",
       "  <th>Skew:</th>          <td> 0.655</td> <th>  Prob(JB):          </th> <td>   0.329</td>\n",
       "</tr>\n",
       "<tr>\n",
       "  <th>Kurtosis:</th>      <td> 3.091</td> <th>  Cond. No.          </th> <td>    1.00</td>\n",
       "</tr>\n",
       "</table><br/><br/>Warnings:<br/>[1] Standard Errors assume that the covariance matrix of the errors is correctly specified."
      ],
      "text/plain": [
       "<class 'statsmodels.iolib.summary.Summary'>\n",
       "\"\"\"\n",
       "                                 OLS Regression Results                                \n",
       "=======================================================================================\n",
       "Dep. Variable:                      y   R-squared (uncentered):                   0.968\n",
       "Model:                            OLS   Adj. R-squared (uncentered):              0.967\n",
       "Method:                 Least Squares   F-statistic:                              910.6\n",
       "Date:                Mon, 27 Jul 2020   Prob (F-statistic):                    5.27e-24\n",
       "Time:                        20:49:42   Log-Likelihood:                         -514.51\n",
       "No. Observations:                  31   AIC:                                      1031.\n",
       "Df Residuals:                      30   BIC:                                      1032.\n",
       "Df Model:                           1                                                  \n",
       "Covariance Type:            nonrobust                                                  \n",
       "==============================================================================\n",
       "                 coef    std err          t      P>|t|      [0.025      0.975]\n",
       "------------------------------------------------------------------------------\n",
       "x1          1.174e+06   3.89e+04     30.176      0.000    1.09e+06    1.25e+06\n",
       "==============================================================================\n",
       "Omnibus:                        3.114   Durbin-Watson:                   0.272\n",
       "Prob(Omnibus):                  0.211   Jarque-Bera (JB):                2.224\n",
       "Skew:                           0.655   Prob(JB):                        0.329\n",
       "Kurtosis:                       3.091   Cond. No.                         1.00\n",
       "==============================================================================\n",
       "\n",
       "Warnings:\n",
       "[1] Standard Errors assume that the covariance matrix of the errors is correctly specified.\n",
       "\"\"\""
      ]
     },
     "execution_count": 51,
     "metadata": {},
     "output_type": "execute_result"
    }
   ],
   "source": [
    "#Extracting Variables\n",
    "exportdata['Time Index'] = [i+1 for i in range(len(exportdata))]\n",
    "time = exportdata['Time Index'].values\n",
    "money = exportdata['Export(US$Thousand)'].values\n",
    "#Regression Statistics\n",
    "x = exportdata['Time Index'].values.reshape(-1,1)\n",
    "y = exportdata['Export(US$Thousand)'].values.reshape(-1,1)\n",
    "mod = sm.OLS(endog = y, exog=x)\n",
    "res = mod.fit()\n",
    "res.summary()"
   ]
  },
  {
   "cell_type": "code",
   "execution_count": 30,
   "metadata": {},
   "outputs": [
    {
     "data": {
      "image/png": "[encoded data removed]",
      "text/plain": [
       "<Figure size 432x288 with 1 Axes>"
      ]
     },
     "metadata": {
      "needs_background": "light"
     },
     "output_type": "display_data"
    }
   ],
   "source": [
    "#Regression\n",
    "sns.regplot(time, money)\n",
    "plt.xlabel('Time')\n",
    "plt.ylabel('Export(US$Thousand)')\n",
    "plt.show()"
   ]
  },
  {
   "cell_type": "markdown",
   "metadata": {},
   "source": [
    "### Sub Question 4: What was the average temperature each year?"
   ]
  },
  {
   "cell_type": "code",
   "execution_count": 57,
   "metadata": {},
   "outputs": [],
   "source": [
    "df3.replace(['NAN',' ','nan'],np.nan,inplace=True)\n",
    "df3['Temp'] = df3['Temp'].astype(float)\n",
    "df3.info()"
   ]
  },
  {
   "cell_type": "code",
   "execution_count": 126,
   "metadata": {},
   "outputs": [],
   "source": [
    "temp = df3.groupby('year').Temp.mean()"
   ]
  },
  {
   "cell_type": "code",
   "execution_count": 127,
   "metadata": {},
   "outputs": [
    {
     "data": {
      "image/png": "[encoded data removed]",
      "text/plain": [
       "<Figure size 432x288 with 1 Axes>"
      ]
     },
     "metadata": {
      "needs_background": "light"
     },
     "output_type": "display_data"
    }
   ],
   "source": [
    "plt.plot(temp)\n",
    "plt.xticks(rotation=45)\n",
    "plt.ylabel('Temperature in Celsius')\n",
    "plt.xlabel('Year')\n",
    "plt.tight_layout()"
   ]
  },
  {
   "cell_type": "code",
   "execution_count": null,
   "metadata": {},
   "outputs": [],
   "source": []
  },
  {
   "cell_type": "code",
   "execution_count": null,
   "metadata": {},
   "outputs": [],
   "source": []
  },
  {
   "cell_type": "code",
   "execution_count": null,
   "metadata": {},
   "outputs": [],
   "source": []
  }
 ],
 "metadata": {
  "kernelspec": {
   "display_name": "Python 3",
   "language": "python",
   "name": "python3"
  },
  "language_info": {
   "codemirror_mode": {
    "name": "ipython",
    "version": 3
   },
   "file_extension": ".py",
   "mimetype": "text/x-python",
   "name": "python",
   "nbconvert_exporter": "python",
   "pygments_lexer": "ipython3",
   "version": "3.7.3"
  }
 },
 "nbformat": 4,
 "nbformat_minor": 2
}
