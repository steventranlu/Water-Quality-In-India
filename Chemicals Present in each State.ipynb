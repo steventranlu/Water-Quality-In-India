{
 "cells": [
  {
   "cell_type": "code",
   "execution_count": 1,
   "metadata": {},
   "outputs": [],
   "source": [
    "import pandas as pd\n",
    "import numpy as np\n",
    "import matplotlib.pyplot as plt\n",
    "import datetime"
   ]
  },
  {
   "cell_type": "code",
   "execution_count": 2,
   "metadata": {},
   "outputs": [],
   "source": [
    "df = pd.read_csv(\"/Users/stevenlu/Desktop/samples.csv\")"
   ]
  },
  {
   "cell_type": "code",
   "execution_count": 3,
   "metadata": {},
   "outputs": [
    {
     "data": {
      "text/html": [
       "<div>\n",
       "<style scoped>\n",
       "    .dataframe tbody tr th:only-of-type {\n",
       "        vertical-align: middle;\n",
       "    }\n",
       "\n",
       "    .dataframe tbody tr th {\n",
       "        vertical-align: top;\n",
       "    }\n",
       "\n",
       "    .dataframe thead th {\n",
       "        text-align: right;\n",
       "    }\n",
       "</style>\n",
       "<table border=\"1\" class=\"dataframe\">\n",
       "  <thead>\n",
       "    <tr style=\"text-align: right;\">\n",
       "      <th></th>\n",
       "      <th>GEMS Station Number;Sample Date;Sample Time;Depth;Parameter Code;Analysis Method Code;Value Flags;Value;Unit;Data Quality</th>\n",
       "    </tr>\n",
       "  </thead>\n",
       "  <tbody>\n",
       "    <tr>\n",
       "      <th>0</th>\n",
       "      <td>IND00001;1991-04-04;12:00;0.6;H-T;T-COL-EDTA-E...</td>\n",
       "    </tr>\n",
       "    <tr>\n",
       "      <th>1</th>\n",
       "      <td>IND00001;1991-04-04;12:00;0.6;TP;COL-SnCl-SA-P...</td>\n",
       "    </tr>\n",
       "    <tr>\n",
       "      <th>2</th>\n",
       "      <td>IND00001;1991-05-07;12:00;0.6;TKN;TKN-T-COL;;3...</td>\n",
       "    </tr>\n",
       "    <tr>\n",
       "      <th>3</th>\n",
       "      <td>IND00001;1991-05-07;12:00;0.6;NH3N;COL-NES;;1....</td>\n",
       "    </tr>\n",
       "    <tr>\n",
       "      <th>4</th>\n",
       "      <td>IND00001;1991-05-07;12:00;0.6;O2-Dis;T-COL-I-A...</td>\n",
       "    </tr>\n",
       "  </tbody>\n",
       "</table>\n",
       "</div>"
      ],
      "text/plain": [
       "  GEMS Station Number;Sample Date;Sample Time;Depth;Parameter Code;Analysis Method Code;Value Flags;Value;Unit;Data Quality\n",
       "0  IND00001;1991-04-04;12:00;0.6;H-T;T-COL-EDTA-E...                                                                       \n",
       "1  IND00001;1991-04-04;12:00;0.6;TP;COL-SnCl-SA-P...                                                                       \n",
       "2  IND00001;1991-05-07;12:00;0.6;TKN;TKN-T-COL;;3...                                                                       \n",
       "3  IND00001;1991-05-07;12:00;0.6;NH3N;COL-NES;;1....                                                                       \n",
       "4  IND00001;1991-05-07;12:00;0.6;O2-Dis;T-COL-I-A...                                                                       "
      ]
     },
     "execution_count": 3,
     "metadata": {},
     "output_type": "execute_result"
    }
   ],
   "source": [
    "df.head()"
   ]
  },
  {
   "cell_type": "code",
   "execution_count": 4,
   "metadata": {},
   "outputs": [],
   "source": [
    "df1 = df['GEMS Station Number;Sample Date;Sample Time;Depth;Parameter Code;Analysis Method Code;Value Flags;Value;Unit;Data Quality'].str.split(';', expand = True)\n",
    "string = 'GEMS Station Number;Sample Date;Sample Time;Depth;Parameter Code;Analysis Method Code;Value Flags;Value;Unit;Data Quality'      \n",
    "string1 = string.split(\";\")"
   ]
  },
  {
   "cell_type": "code",
   "execution_count": 5,
   "metadata": {},
   "outputs": [
    {
     "data": {
      "text/plain": [
       "True"
      ]
     },
     "execution_count": 5,
     "metadata": {},
     "output_type": "execute_result"
    }
   ],
   "source": [
    "df1.columns = [string1]\n",
    "len(df1['Value Flags'].count()) > 0"
   ]
  },
  {
   "cell_type": "code",
   "execution_count": 6,
   "metadata": {},
   "outputs": [
    {
     "data": {
      "text/html": [
       "<div>\n",
       "<style scoped>\n",
       "    .dataframe tbody tr th:only-of-type {\n",
       "        vertical-align: middle;\n",
       "    }\n",
       "\n",
       "    .dataframe tbody tr th {\n",
       "        vertical-align: top;\n",
       "    }\n",
       "\n",
       "    .dataframe thead tr th {\n",
       "        text-align: left;\n",
       "    }\n",
       "</style>\n",
       "<table border=\"1\" class=\"dataframe\">\n",
       "  <thead>\n",
       "    <tr>\n",
       "      <th></th>\n",
       "      <th>GEMS Station Number</th>\n",
       "      <th>Sample Date</th>\n",
       "      <th>Sample Time</th>\n",
       "      <th>Depth</th>\n",
       "      <th>Parameter Code</th>\n",
       "      <th>Analysis Method Code</th>\n",
       "      <th>Value Flags</th>\n",
       "      <th>Value</th>\n",
       "      <th>Unit</th>\n",
       "      <th>Data Quality</th>\n",
       "    </tr>\n",
       "  </thead>\n",
       "  <tbody>\n",
       "    <tr>\n",
       "      <th>0</th>\n",
       "      <td>IND00001</td>\n",
       "      <td>1991-04-04</td>\n",
       "      <td>12:00</td>\n",
       "      <td>0.6</td>\n",
       "      <td>H-T</td>\n",
       "      <td>T-COL-EDTA-EBT</td>\n",
       "      <td></td>\n",
       "      <td>116.0</td>\n",
       "      <td>mg/l</td>\n",
       "      <td>Fair</td>\n",
       "    </tr>\n",
       "    <tr>\n",
       "      <th>1</th>\n",
       "      <td>IND00001</td>\n",
       "      <td>1991-04-04</td>\n",
       "      <td>12:00</td>\n",
       "      <td>0.6</td>\n",
       "      <td>TP</td>\n",
       "      <td>COL-SnCl-SA-PPS</td>\n",
       "      <td></td>\n",
       "      <td>0.0</td>\n",
       "      <td>mg/l</td>\n",
       "      <td>Poor</td>\n",
       "    </tr>\n",
       "    <tr>\n",
       "      <th>2</th>\n",
       "      <td>IND00001</td>\n",
       "      <td>1991-05-07</td>\n",
       "      <td>12:00</td>\n",
       "      <td>0.6</td>\n",
       "      <td>TKN</td>\n",
       "      <td>TKN-T-COL</td>\n",
       "      <td></td>\n",
       "      <td>3.36</td>\n",
       "      <td>mg/l</td>\n",
       "      <td>Fair</td>\n",
       "    </tr>\n",
       "    <tr>\n",
       "      <th>3</th>\n",
       "      <td>IND00001</td>\n",
       "      <td>1991-05-07</td>\n",
       "      <td>12:00</td>\n",
       "      <td>0.6</td>\n",
       "      <td>NH3N</td>\n",
       "      <td>COL-NES</td>\n",
       "      <td></td>\n",
       "      <td>1.12</td>\n",
       "      <td>mg/l</td>\n",
       "      <td>Fair</td>\n",
       "    </tr>\n",
       "    <tr>\n",
       "      <th>4</th>\n",
       "      <td>IND00001</td>\n",
       "      <td>1991-05-07</td>\n",
       "      <td>12:00</td>\n",
       "      <td>0.6</td>\n",
       "      <td>O2-Dis</td>\n",
       "      <td>T-COL-I-AZD</td>\n",
       "      <td></td>\n",
       "      <td>8.2</td>\n",
       "      <td>mg/l</td>\n",
       "      <td>Fair</td>\n",
       "    </tr>\n",
       "  </tbody>\n",
       "</table>\n",
       "</div>"
      ],
      "text/plain": [
       "  GEMS Station Number Sample Date Sample Time Depth Parameter Code  \\\n",
       "0            IND00001  1991-04-04       12:00   0.6            H-T   \n",
       "1            IND00001  1991-04-04       12:00   0.6             TP   \n",
       "2            IND00001  1991-05-07       12:00   0.6            TKN   \n",
       "3            IND00001  1991-05-07       12:00   0.6           NH3N   \n",
       "4            IND00001  1991-05-07       12:00   0.6         O2-Dis   \n",
       "\n",
       "  Analysis Method Code Value Flags  Value  Unit Data Quality  \n",
       "0       T-COL-EDTA-EBT              116.0  mg/l         Fair  \n",
       "1      COL-SnCl-SA-PPS                0.0  mg/l         Poor  \n",
       "2            TKN-T-COL               3.36  mg/l         Fair  \n",
       "3              COL-NES               1.12  mg/l         Fair  \n",
       "4          T-COL-I-AZD                8.2  mg/l         Fair  "
      ]
     },
     "execution_count": 6,
     "metadata": {},
     "output_type": "execute_result"
    }
   ],
   "source": [
    "#Final Dataframe\n",
    "df1.head()"
   ]
  },
  {
   "cell_type": "code",
   "execution_count": 7,
   "metadata": {},
   "outputs": [
    {
     "data": {
      "text/html": [
       "<div>\n",
       "<style scoped>\n",
       "    .dataframe tbody tr th:only-of-type {\n",
       "        vertical-align: middle;\n",
       "    }\n",
       "\n",
       "    .dataframe tbody tr th {\n",
       "        vertical-align: top;\n",
       "    }\n",
       "\n",
       "    .dataframe thead th {\n",
       "        text-align: right;\n",
       "    }\n",
       "</style>\n",
       "<table border=\"1\" class=\"dataframe\">\n",
       "  <thead>\n",
       "    <tr style=\"text-align: right;\">\n",
       "      <th></th>\n",
       "      <th>Year</th>\n",
       "      <th>Export(US$Thousand)</th>\n",
       "    </tr>\n",
       "  </thead>\n",
       "  <tbody>\n",
       "    <tr>\n",
       "      <th>0</th>\n",
       "      <td>1988</td>\n",
       "      <td>3,148,861.47</td>\n",
       "    </tr>\n",
       "    <tr>\n",
       "      <th>1</th>\n",
       "      <td>1989</td>\n",
       "      <td>4,080,891.82</td>\n",
       "    </tr>\n",
       "    <tr>\n",
       "      <th>2</th>\n",
       "      <td>1990</td>\n",
       "      <td>4,899,971.21</td>\n",
       "    </tr>\n",
       "    <tr>\n",
       "      <th>3</th>\n",
       "      <td>1991</td>\n",
       "      <td>4,882,667.33</td>\n",
       "    </tr>\n",
       "    <tr>\n",
       "      <th>4</th>\n",
       "      <td>1992</td>\n",
       "      <td>5,707,423.89</td>\n",
       "    </tr>\n",
       "  </tbody>\n",
       "</table>\n",
       "</div>"
      ],
      "text/plain": [
       "   Year Export(US$Thousand)\n",
       "0  1988        3,148,861.47\n",
       "1  1989        4,080,891.82\n",
       "2  1990        4,899,971.21\n",
       "3  1991       4,882,667.33 \n",
       "4  1992       5,707,423.89 "
      ]
     },
     "execution_count": 7,
     "metadata": {},
     "output_type": "execute_result"
    }
   ],
   "source": [
    "exportdata = pd.read_csv(\"/Users/stevenlu/Desktop/Indian_textile_exports.csv\")\n",
    "exportdata.head()\n"
   ]
  },
  {
   "cell_type": "code",
   "execution_count": 8,
   "metadata": {},
   "outputs": [],
   "source": [
    "remove_comma = lambda x: x.replace(',','')\n",
    "exportdata['Export(US$Thousand)'] = exportdata['Export(US$Thousand)'].apply(remove_comma)\n",
    "exportdata['Export(US$Thousand)'] = exportdata['Export(US$Thousand)'].astype(float)"
   ]
  },
  {
   "cell_type": "code",
   "execution_count": 9,
   "metadata": {},
   "outputs": [
    {
     "name": "stdout",
     "output_type": "stream",
     "text": [
      "<class 'pandas.core.frame.DataFrame'>\n",
      "RangeIndex: 31 entries, 0 to 30\n",
      "Data columns (total 2 columns):\n",
      "Year                   31 non-null int64\n",
      "Export(US$Thousand)    31 non-null float64\n",
      "dtypes: float64(1), int64(1)\n",
      "memory usage: 576.0 bytes\n"
     ]
    }
   ],
   "source": [
    "exportdata.info()"
   ]
  },
  {
   "cell_type": "code",
   "execution_count": 10,
   "metadata": {},
   "outputs": [
    {
     "name": "stdout",
     "output_type": "stream",
     "text": [
      "<class 'pandas.core.frame.DataFrame'>\n",
      "RangeIndex: 31 entries, 0 to 30\n",
      "Data columns (total 2 columns):\n",
      "Year                   31 non-null datetime64[ns]\n",
      "Export(US$Thousand)    31 non-null float64\n",
      "dtypes: datetime64[ns](1), float64(1)\n",
      "memory usage: 576.0 bytes\n"
     ]
    }
   ],
   "source": [
    "year_to_dt = lambda d: datetime.datetime.strptime(d,'%Y')\n",
    "exportdata['Year'] = exportdata['Year'].astype(str)\n",
    "exportdata['Year'] = exportdata['Year'].apply(year_to_dt)\n",
    "exportdata.info()"
   ]
  },
  {
   "cell_type": "code",
   "execution_count": 14,
   "metadata": {},
   "outputs": [],
   "source": [
    "exportdata.set_index('Year',inplace=True)"
   ]
  },
  {
   "cell_type": "code",
   "execution_count": 15,
   "metadata": {},
   "outputs": [
    {
     "data": {
      "text/plain": [
       "[<matplotlib.lines.Line2D at 0x7fa63bd27d68>]"
      ]
     },
     "execution_count": 15,
     "metadata": {},
     "output_type": "execute_result"
    },
    {
     "data": {
      "image/png": "[encoded data removed]",
      "text/plain": [
       "<Figure size 720x720 with 1 Axes>"
      ]
     },
     "metadata": {
      "needs_background": "light"
     },
     "output_type": "display_data"
    }
   ],
   "source": [
    "plt.figure(figsize=(10,10))\n",
    "plt.plot(exportdata)"
   ]
  },
  {
   "cell_type": "code",
   "execution_count": 16,
   "metadata": {},
   "outputs": [
    {
     "data": {
      "text/html": [
       "<div>\n",
       "<style scoped>\n",
       "    .dataframe tbody tr th:only-of-type {\n",
       "        vertical-align: middle;\n",
       "    }\n",
       "\n",
       "    .dataframe tbody tr th {\n",
       "        vertical-align: top;\n",
       "    }\n",
       "\n",
       "    .dataframe thead th {\n",
       "        text-align: right;\n",
       "    }\n",
       "</style>\n",
       "<table border=\"1\" class=\"dataframe\">\n",
       "  <thead>\n",
       "    <tr style=\"text-align: right;\">\n",
       "      <th></th>\n",
       "      <th>Export(US$Thousand)</th>\n",
       "    </tr>\n",
       "    <tr>\n",
       "      <th>Year</th>\n",
       "      <th></th>\n",
       "    </tr>\n",
       "  </thead>\n",
       "  <tbody>\n",
       "    <tr>\n",
       "      <th>1988-01-01</th>\n",
       "      <td>3148861.47</td>\n",
       "    </tr>\n",
       "    <tr>\n",
       "      <th>1989-01-01</th>\n",
       "      <td>4080891.82</td>\n",
       "    </tr>\n",
       "    <tr>\n",
       "      <th>1990-01-01</th>\n",
       "      <td>4899971.21</td>\n",
       "    </tr>\n",
       "    <tr>\n",
       "      <th>1991-01-01</th>\n",
       "      <td>4882667.33</td>\n",
       "    </tr>\n",
       "    <tr>\n",
       "      <th>1992-01-01</th>\n",
       "      <td>5707423.89</td>\n",
       "    </tr>\n",
       "  </tbody>\n",
       "</table>\n",
       "</div>"
      ],
      "text/plain": [
       "            Export(US$Thousand)\n",
       "Year                           \n",
       "1988-01-01           3148861.47\n",
       "1989-01-01           4080891.82\n",
       "1990-01-01           4899971.21\n",
       "1991-01-01           4882667.33\n",
       "1992-01-01           5707423.89"
      ]
     },
     "execution_count": 16,
     "metadata": {},
     "output_type": "execute_result"
    }
   ],
   "source": [
    "exportdata.head()"
   ]
  },
  {
   "cell_type": "code",
   "execution_count": null,
   "metadata": {},
   "outputs": [],
   "source": []
  },
  {
   "cell_type": "code",
   "execution_count": null,
   "metadata": {},
   "outputs": [],
   "source": []
  }
 ],
 "metadata": {
  "kernelspec": {
   "display_name": "Python 3",
   "language": "python",
   "name": "python3"
  },
  "language_info": {
   "codemirror_mode": {
    "name": "ipython",
    "version": 3
   },
   "file_extension": ".py",
   "mimetype": "text/x-python",
   "name": "python",
   "nbconvert_exporter": "python",
   "pygments_lexer": "ipython3",
   "version": "3.7.3"
  }
 },
 "nbformat": 4,
 "nbformat_minor": 2
}
